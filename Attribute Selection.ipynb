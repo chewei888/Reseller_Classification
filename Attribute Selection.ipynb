{
    "metadata": {
        "kernelspec": {
            "name": "python3",
            "display_name": "Python 3 (ipykernel)",
            "language": "python"
        },
        "language_info": {
            "name": "python",
            "version": "3.10.9",
            "mimetype": "text/x-python",
            "codemirror_mode": {
                "name": "ipython",
                "version": 3
            },
            "pygments_lexer": "ipython3",
            "nbconvert_exporter": "python",
            "file_extension": ".py"
        },
        "application/vnd.databricks.v1+notebook": {
            "dashboards": [],
            "language": "python",
            "notebookMetadata": {
                "pythonIndentUnit": 4
            },
            "notebookName": "PySpark MLlib Reseller Classification",
            "widgets": {}
        }
    },
    "nbformat_minor": 2,
    "nbformat": 4,
    "cells": [
        {
            "cell_type": "markdown",
            "source": [
                "# Machine Learning - Reseller Classification\n",
                "\n",
                "## Project Scope:\n",
                "\n",
                "The purpose of this project is to distinguish the resellers from the customers who purchased on the US website. Resellers harm the brand reputation, product market price, and inventory management of the company. Therefore, the company wants to identify and block the resellers' shipments.\n",
                "\n",
                "The project involves a binary classification problem that may require feature engineering if necessary. The data source is a structured dataset in the database, which includes numerical and categorical features.\n",
                "\n",
                "The training of the model will be carried out using PySpark MLlib and Keras Deep Learning frameworks, followed by an evaluation of various classifiers. This notebook is specifically dedicated to exploring three unique PySpark MLlib models: Logistic Regression, Random Forest, and Gradient Boosted Trees (GBT). The demonstration of Keras Deep Learning models will be covered in subsequent notebooks.\n",
                "\n",
                "## Dataset column descriptions:\n",
                "\n",
                "      'sales\\_channel\\_id': US sales channel id is 1, integer \n",
                "\n",
                "      'external\\_customer\\_id': customer id, integer \n",
                "\n",
                "      'email': customer email address, string\n",
                "\n",
                "      'last\\_shipping\\_address\\_address1': the shipping address 1 used in the last transaction, string\n",
                "\n",
                "      'last\\_shipping\\_address\\_address2': the shipping address 2 used in the last transaction, string\n",
                "\n",
                "      'last\\_shipping\\_address\\_city': the shipping city used in the last transaction, string\n",
                "\n",
                "      'last\\_shipping\\_address\\_zip': the shipping address zip code used in the last transaction, string\n",
                "\n",
                "      'last\\_shipping\\_address\\_country\\_code': the shipping country code used in the last transaction, string\n",
                "\n",
                "      'total\\_orders': the total count of orders purchased by the customer, integer \n",
                "\n",
                "      'total\\_units': the total count of item units purchased by the customer, integer \n",
                "\n",
                "      'total\\_gross': the total gross sales spent by the customer, float\n",
                "\n",
                "      'total\\_discounts': the total discounts used by the customer, float\n",
                "\n",
                "      'total\\_returns': the total returns to the customer, float\n",
                "\n",
                "      'total\\_shipping': the total shipping spent by the customer, float\n",
                "\n",
                "      'total\\_taxes': the total taxes purchased by the customer, float\n",
                "\n",
                "      'r\\_score': recency score represents how recently a customer has made a purchase, score 1-5, integer \n",
                "\n",
                "      'f\\_score': frequency score represents how often a customer makes a purchase, score 1-5, integer \n",
                "\n",
                "      'm\\_score': monetary value score represents how much money a customer spends on purchases, score 1-5, integer\n",
                "\n",
                "      'rfm\\_score': r\\_score + f\\_score + m\\_score, integer \n",
                "\n",
                "      'is\\_reseller': 1 (reseller) or 0 (normal customer), this is the target, integer\n",
                "\n",
                "## Preliminary Analysis:\n",
                "\n",
                "The main features that are considered for the analysis are:\n",
                "\n",
                "\\- Total orders, units, gross sales, and discounts: These features reflect the reseller behavior of buying large quantities of products during the discount season.\n",
                "\n",
                "\\- Total returns: This feature indicates the reseller tendency of returning unsold products.\n",
                "\n",
                "\\- Total shipping and taxes: These features provide some information about the reseller location.\n",
                "\n",
                "\\- R\\_score, F\\_score, M\\_score, RFM\\_score: These features are derived from the recency, frequency, and monetary value of each customer's purchases and may help in training a model. The training process utilizes only R\\_score, F\\_score, and RFM\\_score as the input features. This is based on the rationale that these three features encompass the information of M\\_score. Including M\\_score as an additional feature would result in a correlation problem.\n",
                "\n",
                "One challenge in the reseller classification problem is to distinguish between loyal customers and resellers. Loyal customers spend a lot of money in total, but each transaction does not include many units. Resellers purchase multiple units in a single transaction. Therefore, two custom features are created to capture this difference:\n",
                "\n",
                "\\- Average units per order: This feature is obtained by dividing total units by total orders.\n",
                "\n",
                "\\- Average gross sales per order: This feature is obtained by dividing total gross sales by total orders.\n",
                "\n",
                "The resellers may follow a different pattern in these two custom features compared to the loyal customers.\n",
                "\n",
                "The preliminary training stage involves training a model with all the numerical features plus the two custom features. \n",
                "\n",
                "## Improvements 1:\n",
                "\n",
                "Based on the feedback from the team who identified the resellers, I have analyzed the following criteria: email address, shipping address, and IP address. I have discovered that some resellers use multiple email accounts and vary their shipping addresses to avoid detection. However, these methods can be exposed by examining the email domain name and the embedding shipping address of the orders. The IP address is not a reliable indicator, as it can be easily changed by using a VPN. Therefore, I propose to create a model that considers both numerical and categorical features (excludes IP address) of the orders, and uses an embedding space to measure the distance between different shipping addresses. This will help us to detect the resellers' intentions more accurately\n",
                "\n",
                "## Improvements 2:\n",
                "\n",
                "The observation reveals that resellers exhibit a tendency to procure a substantial number of units for each Stock Keeping Unit (SKU) and strive to acquire a wide variety of SKUs. This is primarily driven by their need for product diversity and the requirement to maintain ample stock levels in their warehouses. Resellers often divide their orders into smaller batches, resulting in a higher total unit count and distinct SKU count compared to regular customers. The latter group typically possesses personal preferences that dictate their selection of SKUs based on their individual style. In contrast, resellers lack such preferences as their objective is to cater to the diverse needs of various customers. Consequently, the implementation of two custom features can aid in identifying resellers. The first custom feature involves calculating the average distinct SKU count per order, which counts the number of unique SKUs across a customer's order history and dividing it by the total number of orders. The second custom feature, units per SKU, is computed by dividing the units per order by the average distinct SKU count per order. By incorporating these two custom features into the model training process, reseller classification can be significantly improved.\n",
                "\n",
                "## Improvements 3:\n",
                "\n",
                "The importance of each attribute was checked using the RandomForest model. Attributes with an importance of less than 1% were removed as they provided little information to the model. Removing these attributes reduces noise and helps the model focus on the important ones.\n",
                "\n",
                "The results indicate that f\\_score, units\\_per\\_sku, units\\_per\\_order, total\\_taxes, and total\\_shipping have an importance of less than 1%. Removing them from the dataset and retraining the model may be beneficial."
            ],
            "metadata": {
                "application/vnd.databricks.v1+cell": {
                    "cellMetadata": {},
                    "inputWidgets": {},
                    "nuid": "5c7df25d-abd4-4c0c-97f1-1b08f114cbea",
                    "showTitle": false,
                    "title": ""
                },
                "azdata_cell_guid": "22d678de-baf0-45e6-8388-a86f00243eed"
            },
            "attachments": {}
        },
        {
            "cell_type": "markdown",
            "source": [
                "## Define input and output"
            ],
            "metadata": {
                "application/vnd.databricks.v1+cell": {
                    "cellMetadata": {},
                    "inputWidgets": {},
                    "nuid": "5058c660-6a3a-40b1-973d-95780d2f5c0d",
                    "showTitle": false,
                    "title": ""
                },
                "azdata_cell_guid": "bdfaf174-81da-4ce0-b420-2447a2cbbb9e"
            }
        },
        {
            "cell_type": "code",
            "source": [
                "model_name = \"Reseller Classifier\"\n",
                "input_table_name = \"customer\"\n",
                "output_table_name = \"ml_resellers\""
            ],
            "metadata": {
                "application/vnd.databricks.v1+cell": {
                    "cellMetadata": {
                        "byteLimit": 2048000,
                        "rowLimit": 10000
                    },
                    "inputWidgets": {},
                    "nuid": "0171b7de-9607-48c3-813d-b122862960c0",
                    "showTitle": false,
                    "title": ""
                },
                "azdata_cell_guid": "a9055f51-3468-452c-b631-04e7efff0038",
                "language": "python"
            },
            "outputs": [],
            "execution_count": null
        },
        {
            "cell_type": "code",
            "source": [
                "import os\n",
                "\n",
                "# Define Azure SQL Database connection\n",
                "jdbcHostname = os.getenv(\"SQLDB_HOST\")\n",
                "user = os.getenv(\"SQLDB_USER\")\n",
                "password = dbutils.secrets.get(scope=\"azure_key_vault\", key='SQLDB-PW') # use Azure Key Vault to save this password. \n",
                "jdbcDatabase = os.getenv(\"SQLDB_DB\")\n",
                "jdbcPort = 1433\n",
                "jdbcUrl = \"jdbc:sqlserver://{0}:{1};database={2}\".format(jdbcHostname, jdbcPort, jdbcDatabase)\n",
                "connectionProperties = {\n",
                "\"user\" : user,\n",
                "\"password\" : password,\n",
                "\"driver\" : \"com.microsoft.sqlserver.jdbc.SQLServerDriver\"\n",
                "}"
            ],
            "metadata": {
                "application/vnd.databricks.v1+cell": {
                    "cellMetadata": {
                        "byteLimit": 2048000,
                        "rowLimit": 10000
                    },
                    "inputWidgets": {},
                    "nuid": "0a6ec9a4-57eb-4296-bb42-386f8a285e36",
                    "showTitle": false,
                    "title": ""
                },
                "azdata_cell_guid": "6e4cf12d-e33d-4072-9d14-6624bed89bfa",
                "language": "python"
            },
            "outputs": [],
            "execution_count": null
        },
        {
            "cell_type": "code",
            "source": [
                "# load table as a Spark DataFrame\n",
                "customers = (spark.read\n",
                "  .format(\"jdbc\")\n",
                "  .option(\"url\", jdbcUrl)\n",
                "  .option(\"dbtable\", input_table_name)\n",
                "  .option(\"user\", user)\n",
                "  .option(\"password\", password)\n",
                "  .load()\n",
                ")\n",
                "\n",
                "# take only US data till yesterday\n",
                "customers = customers.where('sales_channel_id = 1 AND CAST(last_transaction_date AS DATE) <= \"2023-07-24\" ')"
            ],
            "metadata": {
                "application/vnd.databricks.v1+cell": {
                    "cellMetadata": {
                        "byteLimit": 2048000,
                        "rowLimit": 10000
                    },
                    "inputWidgets": {},
                    "nuid": "29559893-4dca-4492-9760-be5292a2f102",
                    "showTitle": false,
                    "title": ""
                },
                "azdata_cell_guid": "40ae807b-91f2-4c61-842b-49c841634b85",
                "language": "python"
            },
            "outputs": [],
            "execution_count": null
        },
        {
            "cell_type": "code",
            "source": [
                "input_columns = ['sales_channel_id'\n",
                "      ,'external_customer_id'\n",
                "      ,'customer_type'\n",
                "      ,'email'\n",
                "      ,'first_name'\n",
                "      ,'last_name'\n",
                "      ,'last_shipping_address_address1'\n",
                "      ,'last_shipping_address_address2'\n",
                "      ,'last_shipping_address_city'\n",
                "      ,'last_shipping_address_country'\n",
                "      ,'last_shipping_address_phone'\n",
                "      ,'last_shipping_address_province'\n",
                "      ,'last_shipping_address_zip'\n",
                "      ,'last_shipping_address_country_code'\n",
                "      ,'last_shipping_address_province_code'\n",
                "      ,'first_transaction_date'\n",
                "      ,'first_transaction_id'\n",
                "      ,'last_transaction_date'\n",
                "      ,'last_transaction_id'\n",
                "      ,'last_transaction_ip'\n",
                "      ,'total_orders'\n",
                "      ,'total_units'\n",
                "      ,'total_gross'\n",
                "      ,'total_discounts'\n",
                "      ,'total_returns'\n",
                "      ,'total_shipping'\n",
                "      ,'total_taxes'\n",
                "      ,'r_score'\n",
                "      ,'f_score'\n",
                "      ,'m_score'\n",
                "      ,'rfm_score'\n",
                "      ,'is_reseller'\n",
                "      ,'avg_sku_count'\n",
                "      ]"
            ],
            "metadata": {
                "application/vnd.databricks.v1+cell": {
                    "cellMetadata": {
                        "byteLimit": 2048000,
                        "rowLimit": 10000
                    },
                    "inputWidgets": {},
                    "nuid": "ea4fd7c0-4493-4366-849a-e0148436294f",
                    "showTitle": false,
                    "title": ""
                },
                "azdata_cell_guid": "37e9ec58-0ac7-407e-8e2b-e117ba0bce5a",
                "language": "python"
            },
            "outputs": [],
            "execution_count": null
        },
        {
            "cell_type": "markdown",
            "source": [
                "## Create Custom Features"
            ],
            "metadata": {
                "application/vnd.databricks.v1+cell": {
                    "cellMetadata": {},
                    "inputWidgets": {},
                    "nuid": "deae9041-4f64-4b39-9c37-de9fcba01b68",
                    "showTitle": false,
                    "title": ""
                },
                "azdata_cell_guid": "d6a32e88-f773-4ca8-af14-eacbb74b0cdf"
            }
        },
        {
            "cell_type": "code",
            "source": [
                "import pyspark.sql.functions as F\n",
                "\n",
                "# create 4 custom features\n",
                "df = (\n",
                "    customers.select(\n",
                "        [customers[col] for col in input_columns]\n",
                "        + [\n",
                "            F.substring_index(\n",
                "                F.substring_index(F.lower(customers[\"email\"]), \"@\", -1), \".\", 1\n",
                "            ).alias(\"email_domain\")\n",
                "        ]\n",
                "        + [\n",
                "            F.concat(\n",
                "                F.coalesce(F.lower(customers[\"last_shipping_address_address1\"]), F.lit(\"\")),\n",
                "                F.lit(\" \"),\n",
                "                F.coalesce(F.lower(customers[\"last_shipping_address_address2\"]), F.lit(\"\")),\n",
                "                F.lit(\" \"),\n",
                "                F.coalesce(F.lower(customers[\"last_shipping_address_city\"]), F.lit(\"\")),\n",
                "                F.lit(\" \"),\n",
                "                F.coalesce(F.lower(customers[\"last_shipping_address_country_code\"]), F.lit(\"\")),\n",
                "                F.lit(\" \"),\n",
                "                F.coalesce(F.lower(customers[\"last_shipping_address_zip\"]), F.lit(\"\")),\n",
                "            ).alias(\"address\")\n",
                "        ]\n",
                "    )\n",
                "    .withColumn(\"email_domain_address\", F.array(\"email_domain\", \"address\"))\n",
                "    .withColumn(\"units_per_order\", F.col(\"total_units\") * 1.0 / F.col(\"total_orders\"))\n",
                "    .withColumn(\"gross_per_order\", F.col(\"total_gross\") * 1.0 / F.col(\"total_orders\"))\n",
                "    .withColumn(\"units_per_sku\", F.col('units_per_order') * 1.0 / F.col('avg_sku_count'))\n",
                ")"
            ],
            "metadata": {
                "application/vnd.databricks.v1+cell": {
                    "cellMetadata": {
                        "byteLimit": 2048000,
                        "rowLimit": 10000
                    },
                    "inputWidgets": {},
                    "nuid": "e0668a98-b3a8-451b-ab6f-b607db182ee5",
                    "showTitle": false,
                    "title": ""
                },
                "azdata_cell_guid": "4c5b2f72-dbce-403d-9e66-1647dda02ba5",
                "language": "python"
            },
            "outputs": [],
            "execution_count": null
        },
        {
            "cell_type": "code",
            "source": [
                "IDENTIFIERS = ['external_customer_id', 'email']\n",
                "CONTINUOUS_COLUMNS = [\n",
                "  'total_orders',\n",
                "  'total_units',\n",
                "  'total_gross',\n",
                "  'total_discounts',\n",
                "  'total_returns',\n",
                "  'total_shipping',\n",
                "  'total_taxes',\n",
                "  'r_score',\n",
                "  'f_score',\n",
                "  'rfm_score',\n",
                "  'avg_sku_count',\n",
                "  'units_per_order', \n",
                "  'gross_per_order', \n",
                "  'units_per_sku'\n",
                "]\n",
                "CATEGORICAL_COLUMN = 'email_domain_address'\n",
                "TARGET_COLUMN = ['is_reseller']"
            ],
            "metadata": {
                "application/vnd.databricks.v1+cell": {
                    "cellMetadata": {
                        "byteLimit": 2048000,
                        "rowLimit": 10000
                    },
                    "inputWidgets": {},
                    "nuid": "b05c1d72-4dfb-4492-b918-c2c9126d54c3",
                    "showTitle": false,
                    "title": ""
                },
                "azdata_cell_guid": "c8119232-0f40-459c-8cc1-21c8c63f836e",
                "language": "python"
            },
            "outputs": [],
            "execution_count": null
        },
        {
            "cell_type": "code",
            "source": [
                "# Drop nulls\n",
                "customers = df.dropna(\n",
                "  how='any',\n",
                "  subset=[x for x in IDENTIFIERS + CONTINUOUS_COLUMNS + TARGET_COLUMN + [CATEGORICAL_COLUMN]]\n",
                ")\n",
                "\n",
                "# Remove duplicates\n",
                "customers = customers.dropDuplicates(subset=['sales_channel_id', 'external_customer_id']) "
            ],
            "metadata": {
                "application/vnd.databricks.v1+cell": {
                    "cellMetadata": {
                        "byteLimit": 2048000,
                        "rowLimit": 10000
                    },
                    "inputWidgets": {},
                    "nuid": "adeb6073-2936-4cc0-8778-ecd18aa89310",
                    "showTitle": false,
                    "title": ""
                },
                "azdata_cell_guid": "7e8fb0d2-2f42-438d-9234-526ef068e983",
                "language": "python"
            },
            "outputs": [],
            "execution_count": null
        },
        {
            "cell_type": "markdown",
            "source": [
                "## Train Test Split"
            ],
            "metadata": {
                "application/vnd.databricks.v1+cell": {
                    "cellMetadata": {},
                    "inputWidgets": {},
                    "nuid": "76fd7d86-f0fa-43ec-ac45-6db2c40ee8d7",
                    "showTitle": false,
                    "title": ""
                },
                "azdata_cell_guid": "1b05de06-b205-4113-85aa-3d97cf696218"
            }
        },
        {
            "cell_type": "code",
            "source": [
                "# Take all the US resellers\n",
                "resellers = customers.where('sales_channel_id = 1 and is_reseller = 1 and CAST(last_transaction_date AS DATE) <= \"2023-07-24\"')\n",
                "# Take US normal customers in 2023 only\n",
                "normal_customers = customers.where('sales_channel_id = 1 and is_reseller = 0 and CAST(last_transaction_date AS DATE) between \"2023-01-01\" and \"2023-07-24\" ')\n",
                "\n",
                "# Split the resellers and normal customers, then merge them together, and then suffle the order. \n",
                "# This ensures train, test, val dataset have equal portion of resellers and normal customers.\n",
                "train_resellers, test_resellers, val_resellers = resellers.randomSplit([0.8, 0.1, 0.1], seed=42)\n",
                "train_normal, test_normal, val_normal = normal_customers.randomSplit([0.8, 0.1, 0.1], seed=42)\n",
                "\n",
                "train = train_resellers.union(train_normal).orderBy(F.rand(seed=42))\n",
                "test = test_resellers.union(test_normal).orderBy(F.rand(seed=42))\n",
                "val = val_resellers.union(val_normal).orderBy(F.rand(seed=42))\n",
                "\n",
                "train.cache()\n",
                "test.cache()\n",
                "val.cache()"
            ],
            "metadata": {
                "application/vnd.databricks.v1+cell": {
                    "cellMetadata": {
                        "byteLimit": 2048000,
                        "rowLimit": 10000
                    },
                    "inputWidgets": {},
                    "nuid": "376c2cd5-8865-418e-a096-415b9ce6ca48",
                    "showTitle": false,
                    "title": ""
                },
                "azdata_cell_guid": "1ecc1077-7f58-4f98-86a5-99b89a6e67cd",
                "language": "python"
            },
            "outputs": [
                {
                    "output_type": "execute_result",
                    "execution_count": 9,
                    "data": {
                        "text/plain": "DataFrame[sales_channel_id: int, external_customer_id: bigint, customer_type: string, email: string, first_name: string, last_name: string, last_shipping_address_address1: string, last_shipping_address_address2: string, last_shipping_address_city: string, last_shipping_address_country: string, last_shipping_address_phone: string, last_shipping_address_province: string, last_shipping_address_zip: string, last_shipping_address_country_code: string, last_shipping_address_province_code: string, first_transaction_date: timestamp, first_transaction_id: bigint, last_transaction_date: timestamp, last_transaction_id: bigint, last_transaction_ip: string, total_orders: int, total_units: int, total_gross: decimal(19,4), total_discounts: decimal(19,4), total_returns: decimal(19,4), total_shipping: decimal(19,4), total_taxes: decimal(19,4), r_score: int, f_score: int, m_score: int, rfm_score: int, is_reseller: int, avg_sku_count: double, email_domain: string, address: string, email_domain_address: array<string>, units_per_order: double, gross_per_order: double, units_per_sku: double]"
                    },
                    "metadata": {}
                }
            ],
            "execution_count": null
        },
        {
            "cell_type": "markdown",
            "source": [
                "## Create a Pipeline"
            ],
            "metadata": {
                "application/vnd.databricks.v1+cell": {
                    "cellMetadata": {},
                    "inputWidgets": {},
                    "nuid": "a95dcbe7-2a87-4361-8fc7-fc438cb8a832",
                    "showTitle": false,
                    "title": ""
                },
                "azdata_cell_guid": "b2724847-8617-4c02-a401-e2161984b5b1"
            }
        },
        {
            "cell_type": "code",
            "source": [
                "imput_columns = [(x + '_i') for x in CONTINUOUS_COLUMNS if x not in ['units_per_order', 'gross_per_order', 'units_per_sku']]"
            ],
            "metadata": {
                "application/vnd.databricks.v1+cell": {
                    "cellMetadata": {
                        "byteLimit": 2048000,
                        "rowLimit": 10000
                    },
                    "inputWidgets": {},
                    "nuid": "0edca4f9-fc28-40d1-b5ba-bf34a1d9fbd3",
                    "showTitle": false,
                    "title": ""
                },
                "azdata_cell_guid": "13f67e9c-93bc-4004-91f1-e3f8af83b138",
                "language": "python"
            },
            "outputs": [],
            "execution_count": null
        },
        {
            "cell_type": "code",
            "source": [
                "from pyspark.ml import Pipeline\n",
                "import pyspark.ml.feature as MF\n",
                "\n",
                "embedding_size = 100\n",
                "\n",
                "imputer = MF.Imputer(\n",
                "  strategy='mean',\n",
                "  inputCols=[x for x in CONTINUOUS_COLUMNS if x not in ['units_per_order', 'gross_per_order', 'units_per_sku']],\n",
                "  outputCols=imput_columns\n",
                ")\n",
                "\n",
                "embedding = MF.Word2Vec(\n",
                "    vectorSize=embedding_size,\n",
                "    inputCol='email_domain_address',\n",
                "    outputCol='embedded'\n",
                ")\n",
                "\n",
                "continuous_assembler = MF.VectorAssembler(\n",
                "  inputCols=imput_columns + ['units_per_order', 'gross_per_order', 'units_per_sku', 'embedded'],\n",
                "  outputCol='continuous'\n",
                ")\n",
                "\n",
                "continuous_scaler = MF.StandardScaler(\n",
                "  inputCol='continuous',\n",
                "  outputCol='features'\n",
                ")\n",
                "\n",
                "customers_pipeline = Pipeline(\n",
                "  stages=[imputer, embedding, continuous_assembler, continuous_scaler]\n",
                ")\n",
                "\n",
                "customers_pipeline_model = customers_pipeline.fit(train)\n",
                "customers_features = customers_pipeline_model.transform(train)"
            ],
            "metadata": {
                "application/vnd.databricks.v1+cell": {
                    "cellMetadata": {
                        "byteLimit": 2048000,
                        "rowLimit": 10000
                    },
                    "inputWidgets": {},
                    "nuid": "5d3cf9eb-d9da-438e-8353-baf6f4ef3a2b",
                    "showTitle": false,
                    "title": ""
                },
                "azdata_cell_guid": "bb4472b8-4ddf-4ad7-9435-79d795848382",
                "language": "python"
            },
            "outputs": [],
            "execution_count": null
        },
        {
            "cell_type": "markdown",
            "source": [
                "##RandomForest"
            ],
            "metadata": {
                "application/vnd.databricks.v1+cell": {
                    "cellMetadata": {},
                    "inputWidgets": {},
                    "nuid": "2c377111-46c9-4a8b-bcfe-023761642465",
                    "showTitle": false,
                    "title": ""
                },
                "azdata_cell_guid": "206bf9ee-cb1f-4af3-a48f-ed882d4faa09"
            }
        },
        {
            "cell_type": "code",
            "source": [
                "from pyspark.ml.classification import RandomForestClassifier\n",
                "import mlflow\n",
                "\n",
                "clf = RandomForestClassifier(\n",
                "  featuresCol='features',\n",
                "  labelCol='is_reseller',\n",
                "  predictionCol='prediction'\n",
                ")\n",
                "\n",
                "customers_pipeline.setStages(\n",
                "  [\n",
                "    imputer, \n",
                "    embedding,\n",
                "    continuous_assembler, \n",
                "    continuous_scaler,\n",
                "    clf\n",
                "  ]\n",
                ")\n",
                "\n",
                "# Start an MLflow run\n",
                "mlflow.start_run()\n",
                "\n",
                "# Train a model\n",
                "customers_pipeline_model = customers_pipeline.fit(train)\n",
                "\n",
                "# Predictions\n",
                "results = customers_pipeline_model.transform(val)\n",
                "\n",
                "# Log metrics\n",
                "model = customers_pipeline_model.stages[-1]\n",
                "metrics = model.evaluate(results.select('email', 'is_reseller', 'features'))\n",
                "\n",
                "mlflow.log_metric(\"val_accuracy\", metrics.accuracy)\n",
                "mlflow.log_metric(\"val_precision\", metrics.precisionByLabel[1])\n",
                "mlflow.log_metric(\"val_recall\", metrics.recallByLabel[1])\n",
                "\n",
                "# Log the model\n",
                "mlflow.spark.log_model(customers_pipeline_model, \"RandomForest_model\")\n",
                "\n",
                "# Close the MLflow run\n",
                "mlflow.end_run()"
            ],
            "metadata": {
                "application/vnd.databricks.v1+cell": {
                    "cellMetadata": {
                        "byteLimit": 2048000,
                        "rowLimit": 10000
                    },
                    "inputWidgets": {},
                    "nuid": "47a13ce5-7ce5-4633-877e-2bf67f759753",
                    "showTitle": false,
                    "title": ""
                },
                "azdata_cell_guid": "3605afe6-fb30-4d86-b17f-95c78aee2c19",
                "language": "python"
            },
            "outputs": [
                {
                    "output_type": "stream",
                    "name": "stderr",
                    "text": "2023/08/15 21:09:17 INFO mlflow.spark: Inferring pip requirements by reloading the logged model from the databricks artifact repository, which can be time-consuming. To speed up, explicitly specify the conda_env or pip_requirements when calling log_model().\n/databricks/python/lib/python3.10/site-packages/_distutils_hack/__init__.py:33: UserWarning: Setuptools is replacing distutils.\n  warnings.warn(\"Setuptools is replacing distutils.\")\n"
                }
            ],
            "execution_count": null
        },
        {
            "cell_type": "code",
            "source": [
                "column_names = (\n",
                "    [\n",
                "        x\n",
                "        for x in CONTINUOUS_COLUMNS\n",
                "        if x not in [\"units_per_order\", \"gross_per_order\", \"units_per_sku\"]\n",
                "    ]\n",
                "    + [\"units_per_order\", \"gross_per_order\", \"units_per_sku\"]\n",
                "    + [f\"embed_{i}\" for i in range(100)]\n",
                ")"
            ],
            "metadata": {
                "application/vnd.databricks.v1+cell": {
                    "cellMetadata": {
                        "byteLimit": 2048000,
                        "rowLimit": 10000
                    },
                    "inputWidgets": {},
                    "nuid": "85c0d294-c8c8-48dc-a871-d238b9f0a961",
                    "showTitle": false,
                    "title": ""
                },
                "azdata_cell_guid": "bab1ad0c-ff98-4171-afba-1807049bf2b5",
                "language": "python"
            },
            "outputs": [],
            "execution_count": null
        },
        {
            "cell_type": "code",
            "source": [
                "import pandas as pd\n",
                "\n",
                "col_importances = pd.DataFrame(\n",
                "    model.featureImportances.toArray(), columns=[\"importance\"], index=column_names\n",
                ")"
            ],
            "metadata": {
                "application/vnd.databricks.v1+cell": {
                    "cellMetadata": {
                        "byteLimit": 2048000,
                        "rowLimit": 10000
                    },
                    "inputWidgets": {},
                    "nuid": "761d1b3c-21eb-43cd-a08d-3dca91c1c70c",
                    "showTitle": false,
                    "title": ""
                },
                "azdata_cell_guid": "54fd29fc-e0f5-45dc-99d2-9fd6212e9dfb",
                "language": "python"
            },
            "outputs": [],
            "execution_count": null
        },
        {
            "cell_type": "code",
            "source": [
                "col_importances.loc[CONTINUOUS_COLUMNS].sort_values(by='importance', ascending=False)\n",
                "# f_score, units_per_sku, units_per_order, total_taxes, total_shipping are useless. We can consider to remove them from the dataset and then retrain the model."
            ],
            "metadata": {
                "application/vnd.databricks.v1+cell": {
                    "cellMetadata": {
                        "byteLimit": 2048000,
                        "rowLimit": 10000
                    },
                    "inputWidgets": {},
                    "nuid": "cbd12846-0fcc-43af-9fc0-348e8ff4bf4c",
                    "showTitle": false,
                    "title": ""
                },
                "azdata_cell_guid": "00e63a7d-9f8c-4893-a626-e1736a7ae9ce",
                "language": "python"
            },
            "outputs": [
                {
                    "output_type": "execute_result",
                    "execution_count": 61,
                    "data": {
                        "text/html": "<div>\n<style scoped>\n    .dataframe tbody tr th:only-of-type {\n        vertical-align: middle;\n    }\n\n    .dataframe tbody tr th {\n        vertical-align: top;\n    }\n\n    .dataframe thead th {\n        text-align: right;\n    }\n</style>\n<table border=\"1\" class=\"dataframe\">\n  <thead>\n    <tr style=\"text-align: right;\">\n      <th></th>\n      <th>importance</th>\n    </tr>\n  </thead>\n  <tbody>\n    <tr>\n      <th>gross_per_order</th>\n      <td>0.241971</td>\n    </tr>\n    <tr>\n      <th>r_score</th>\n      <td>0.120089</td>\n    </tr>\n    <tr>\n      <th>total_gross</th>\n      <td>0.058116</td>\n    </tr>\n    <tr>\n      <th>avg_sku_count</th>\n      <td>0.035167</td>\n    </tr>\n    <tr>\n      <th>total_discounts</th>\n      <td>0.034501</td>\n    </tr>\n    <tr>\n      <th>total_orders</th>\n      <td>0.023808</td>\n    </tr>\n    <tr>\n      <th>rfm_score</th>\n      <td>0.017863</td>\n    </tr>\n    <tr>\n      <th>total_units</th>\n      <td>0.014201</td>\n    </tr>\n    <tr>\n      <th>total_returns</th>\n      <td>0.010107</td>\n    </tr>\n    <tr>\n      <th>f_score</th>\n      <td>0.007412</td>\n    </tr>\n    <tr>\n      <th>units_per_sku</th>\n      <td>0.004818</td>\n    </tr>\n    <tr>\n      <th>units_per_order</th>\n      <td>0.002165</td>\n    </tr>\n    <tr>\n      <th>total_taxes</th>\n      <td>0.000913</td>\n    </tr>\n    <tr>\n      <th>total_shipping</th>\n      <td>0.000000</td>\n    </tr>\n  </tbody>\n</table>\n</div>",
                        "text/plain": "                 importance\ngross_per_order    0.241971\nr_score            0.120089\ntotal_gross        0.058116\navg_sku_count      0.035167\ntotal_discounts    0.034501\ntotal_orders       0.023808\nrfm_score          0.017863\ntotal_units        0.014201\ntotal_returns      0.010107\nf_score            0.007412\nunits_per_sku      0.004818\nunits_per_order    0.002165\ntotal_taxes        0.000913\ntotal_shipping     0.000000"
                    },
                    "metadata": {}
                }
            ],
            "execution_count": null
        },
        {
            "cell_type": "code",
            "source": [],
            "metadata": {
                "application/vnd.databricks.v1+cell": {
                    "cellMetadata": {},
                    "inputWidgets": {},
                    "nuid": "a97c9245-9242-4633-bcbd-d5f11236c242",
                    "showTitle": false,
                    "title": ""
                },
                "azdata_cell_guid": "c53cc46b-8af0-4118-b5f8-c7495baa018a",
                "language": "python"
            },
            "outputs": [],
            "execution_count": null
        }
    ]
}